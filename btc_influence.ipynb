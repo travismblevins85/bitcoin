{
 "cells": [
  {
   "cell_type": "code",
   "execution_count": 1,
   "metadata": {},
   "outputs": [],
   "source": [
    "from datetime import date, timedelta\n",
    "import pandas as pd\n",
    "import plotly.graph_objects as go\n",
    "import pandas_datareader as pdr\n"
   ]
  },
  {
   "cell_type": "code",
   "execution_count": 2,
   "metadata": {},
   "outputs": [
    {
     "name": "stdout",
     "output_type": "stream",
     "text": [
      "--------------------------------------------------Bitcoin's Influence---------------------------------------------------\n",
      "-This project is to show you Bitcoin's influence over the rest of the crypto market, the majority of the market follows \n",
      "the same trend, up or down.  I involved 3 of the main coins, Bitcoin, Ethereum (the top 2), and Litecoin.\n",
      "\n",
      "-To display this, I have a graph to show you the last last 365 days of price trendlines.  I also have have a current\n",
      "24 hour percentage change of each coin, which  most likely will be similar.  Many, many updates in the future :)\n",
      "\n",
      "-Relevance being, is Litecoin is closely related to Bitcoin, but Ethereum is Bitcoin's #1 competitor.\n"
     ]
    }
   ],
   "source": [
    "btc_inf = (\"Bitcoin's Influence\")\n",
    "bt = btc_inf.center(120, '-')\n",
    "print(bt)\n",
    "print(\"-This project is to show you Bitcoin's influence over the rest of the crypto market, the majority of the market follows \\nthe same trend, up or down.  I involved 3 of the main coins, Bitcoin, Ethereum (the top 2), and Litecoin.\")\n",
    "print (\"\\n-To display this, I have a graph to show you the last last 365 days of price trendlines.  I also have have a current\\n24 hour percentage change of each coin, which  most likely will be similar.  Many, many updates in the future :)\")\n",
    "print(\"\\n-Relevance being, is Litecoin is closely related to Bitcoin, but Ethereum is Bitcoin's #1 competitor.\")"
   ]
  },
  {
   "cell_type": "code",
   "execution_count": 3,
   "metadata": {},
   "outputs": [
    {
     "name": "stdout",
     "output_type": "stream",
     "text": [
      "---------------------------------------------Bitcoin, Ethereum, & Litecoin----------------------------------------------\n",
      "-Bitcoin is a decentralized cryptocurrency originally described in a 2008 whitepaper by a person, or group of people, using the alias Satoshi Nakamoto. It was launched soon after, in January 2009.  Bitcoin is a peer-to-peer online currency, meaning that all transactions happen directly between equal, independent network participants, without the need for any intermediary to permit or facilitate them. Bitcoin was created, according to Nakamoto’s own words, to allow \"online payments to be sent directly from one party to another without going through a financial institution.\"Some concepts for a similar type of a decentralized electronic currency precede BTC, but Bitcoin holds the distinction of being the first-ever cryptocurrency to come into actual use.\n",
      "\n",
      "-Ethereum is a decentralized open-source blockchain system that features its own cryptocurrency, Ether. ETH works as a platform for numerous other cryptocurrencies, as well as for the execution of decentralized smart contracts.  Ethereum was first described in a 2013 whitepaper by Vitalik Buterin. Buterin, along with other co-founders, secured funding for the project in an online public crowd sale in the summer of 2014. The project team managed to raise $18.3 million in Bitcoin, and Ethereum’s price in the Initial Coin Offering (ICO) was $0.311, with over 60 million Ether sold. Taking Ethereum’s price now, this puts the return on investment (ROI) at an annualized rate of over 270%, essentially almost quadrupling your investment every year since the summer of 2014.  The Ethereum Foundation officially launched the blockchain on July 30, 2015, under the prototype codenamed “Frontier.” Since then, there has been several network updates — “Constantinople” on Feb. 28, 2019, “Istanbul” on Dec. 8, 2019, “Muir Glacier” on Jan. 2, 2020, “Berlin” on April 14, 2021, and most recently on Aug. 5, 2021, the “London” hard fork.  Ethereum’s own purported goal is to become a global platform for decentralized applications, allowing users from all over the world to write and run software that is resistant to censorship, downtime and fraud.\n",
      "\n",
      "-Litecoin (LTC) is a cryptocurrency that was designed to provide fast, secure and low-cost payments by leveraging the unique properties of blockchain technology.  To learn more about this project, check out our deep dive of Litecoin.  The cryptocurrency was created based on the Bitcoin (BTC) protocol, but it differs in terms of the hashing algorithm used, hard cap, block transaction times and a few other factors. Litecoin has a block time of just 2.5 minutes and extremely low transaction fees, making it suitable for micro-transactions and point-of-sale payments.  Litecoin was released via an open-source client on GitHub on Oct. 7, 2011, and the Litecoin Network went live five days later on Oct. 13, 2011. Since then, it has exploded in both usage and acceptance among merchants and has counted among the top ten cryptocurrencies by market capitalization for most of its existence.  The cryptocurrency was created by Charlie Lee, a former Google employee, who intended Litecoin to be a \"lite version of Bitcoin,\" in that it features many of the same properties as Bitcoin—albeit lighter in weight.\n"
     ]
    }
   ],
   "source": [
    "names = (\"Bitcoin, Ethereum, & Litecoin\")\n",
    "n=names.center(120,'-')\n",
    "print(n)\n",
    "print(\"-Bitcoin is a decentralized cryptocurrency originally described in a 2008 whitepaper by a person, or group of people, using the alias Satoshi Nakamoto. It was launched soon after, in January 2009.  Bitcoin is a peer-to-peer online currency, meaning that all transactions happen directly between equal, independent network participants, without the need for any intermediary to permit or facilitate them. Bitcoin was created, according to Nakamoto’s own words, to allow \\\"online payments to be sent directly from one party to another without going through a financial institution.\\\"Some concepts for a similar type of a decentralized electronic currency precede BTC, but Bitcoin holds the distinction of being the first-ever cryptocurrency to come into actual use.\")\n",
    "print(\"\\n-Ethereum is a decentralized open-source blockchain system that features its own cryptocurrency, Ether. ETH works as a platform for numerous other cryptocurrencies, as well as for the execution of decentralized smart contracts.  Ethereum was first described in a 2013 whitepaper by Vitalik Buterin. Buterin, along with other co-founders, secured funding for the project in an online public crowd sale in the summer of 2014. The project team managed to raise $18.3 million in Bitcoin, and Ethereum’s price in the Initial Coin Offering (ICO) was $0.311, with over 60 million Ether sold. Taking Ethereum’s price now, this puts the return on investment (ROI) at an annualized rate of over 270%, essentially almost quadrupling your investment every year since the summer of 2014.  The Ethereum Foundation officially launched the blockchain on July 30, 2015, under the prototype codenamed “Frontier.” Since then, there has been several network updates — “Constantinople” on Feb. 28, 2019, “Istanbul” on Dec. 8, 2019, “Muir Glacier” on Jan. 2, 2020, “Berlin” on April 14, 2021, and most recently on Aug. 5, 2021, the “London” hard fork.  Ethereum’s own purported goal is to become a global platform for decentralized applications, allowing users from all over the world to write and run software that is resistant to censorship, downtime and fraud.\")\n",
    "print(\"\\n-Litecoin (LTC) is a cryptocurrency that was designed to provide fast, secure and low-cost payments by leveraging the unique properties of blockchain technology.  To learn more about this project, check out our deep dive of Litecoin.  The cryptocurrency was created based on the Bitcoin (BTC) protocol, but it differs in terms of the hashing algorithm used, hard cap, block transaction times and a few other factors. Litecoin has a block time of just 2.5 minutes and extremely low transaction fees, making it suitable for micro-transactions and point-of-sale payments.  Litecoin was released via an open-source client on GitHub on Oct. 7, 2011, and the Litecoin Network went live five days later on Oct. 13, 2011. Since then, it has exploded in both usage and acceptance among merchants and has counted among the top ten cryptocurrencies by market capitalization for most of its existence.  The cryptocurrency was created by Charlie Lee, a former Google employee, who intended Litecoin to be a \\\"lite version of Bitcoin,\\\" in that it features many of the same properties as Bitcoin—albeit lighter in weight.\")"
   ]
  },
  {
   "cell_type": "code",
   "execution_count": 4,
   "metadata": {},
   "outputs": [
    {
     "name": "stdout",
     "output_type": "stream",
     "text": [
      "----------------------------------------------------Trendline Graph-----------------------------------------------------\n"
     ]
    }
   ],
   "source": [
    "graph = (\"Trendline Graph\")\n",
    "trend = graph.center(120,'-')\n",
    "print(trend)"
   ]
  },
  {
   "cell_type": "code",
   "execution_count": 5,
   "metadata": {},
   "outputs": [],
   "source": [
    "CRYPTOS = ['BTC', 'ETH', 'LTC',]\n",
    "CURRENCY = 'USD'\n",
    "\n",
    "def getData(cryptocurrency):\n",
    "    now = date.today()\n",
    "    #Keep it current with today whenever used\n",
    "    today = now.strftime(\"%Y-%m-%d\")\n",
    "    #Go back a month\n",
    "    month_earlier = (now - timedelta(days=365)).strftime(\"%Y-%m-%d\")\n",
    "\n",
    "    start = pd.to_datetime(month_earlier)\n",
    "    end = pd.to_datetime(today)\n",
    "\n",
    "    data = pdr.get_data_yahoo(f'{cryptocurrency}-{CURRENCY}', start, end)\n",
    "\n",
    "    return data\n"
   ]
  },
  {
   "cell_type": "code",
   "execution_count": 6,
   "metadata": {},
   "outputs": [
    {
     "ename": "ValueError",
     "evalue": "Mime type rendering requires nbformat>=4.2.0 but it is not installed",
     "output_type": "error",
     "traceback": [
      "\u001b[1;31m---------------------------------------------------------------------------\u001b[0m",
      "\u001b[1;31mValueError\u001b[0m                                Traceback (most recent call last)",
      "\u001b[1;32mc:\\Users\\travi\\Desktop\\Bitcoin\\bitcoin\\btc_influence.ipynb Cell 6'\u001b[0m in \u001b[0;36m<cell line: 28>\u001b[1;34m()\u001b[0m\n\u001b[0;32m     <a href='vscode-notebook-cell:/c%3A/Users/travi/Desktop/Bitcoin/bitcoin/btc_influence.ipynb#ch0000005?line=18'>19</a>\u001b[0m fig\u001b[39m.\u001b[39mupdate_layout(\n\u001b[0;32m     <a href='vscode-notebook-cell:/c%3A/Users/travi/Desktop/Bitcoin/bitcoin/btc_influence.ipynb#ch0000005?line=19'>20</a>\u001b[0m         title \u001b[39m=\u001b[39m\u001b[39m\"\u001b[39m\u001b[39mBitcoin\u001b[39m\u001b[39m'\u001b[39m\u001b[39ms influence over other cryptos,notice the similar trendlines over a year.\u001b[39m\u001b[39m\"\u001b[39m,\n\u001b[0;32m     <a href='vscode-notebook-cell:/c%3A/Users/travi/Desktop/Bitcoin/bitcoin/btc_influence.ipynb#ch0000005?line=20'>21</a>\u001b[0m         title_x\u001b[39m=\u001b[39m\u001b[39m0.5\u001b[39m,\n\u001b[1;32m   (...)\u001b[0m\n\u001b[0;32m     <a href='vscode-notebook-cell:/c%3A/Users/travi/Desktop/Bitcoin/bitcoin/btc_influence.ipynb#ch0000005?line=23'>24</a>\u001b[0m         legend_title \u001b[39m=\u001b[39m \u001b[39m'\u001b[39m\u001b[39mCryptos\u001b[39m\u001b[39m'\u001b[39m\n\u001b[0;32m     <a href='vscode-notebook-cell:/c%3A/Users/travi/Desktop/Bitcoin/bitcoin/btc_influence.ipynb#ch0000005?line=24'>25</a>\u001b[0m     )\n\u001b[0;32m     <a href='vscode-notebook-cell:/c%3A/Users/travi/Desktop/Bitcoin/bitcoin/btc_influence.ipynb#ch0000005?line=25'>26</a>\u001b[0m fig\u001b[39m.\u001b[39mupdate_yaxes(\u001b[39mtype\u001b[39m\u001b[39m=\u001b[39m\u001b[39m'\u001b[39m\u001b[39mlog\u001b[39m\u001b[39m'\u001b[39m, tickprefix\u001b[39m=\u001b[39m\u001b[39m'\u001b[39m\u001b[39m$\u001b[39m\u001b[39m'\u001b[39m)\n\u001b[1;32m---> <a href='vscode-notebook-cell:/c%3A/Users/travi/Desktop/Bitcoin/bitcoin/btc_influence.ipynb#ch0000005?line=27'>28</a>\u001b[0m fig\u001b[39m.\u001b[39;49mshow()\n",
      "File \u001b[1;32m~\\AppData\\Local\\Programs\\Python\\Python310\\lib\\site-packages\\plotly\\basedatatypes.py:3398\u001b[0m, in \u001b[0;36mBaseFigure.show\u001b[1;34m(self, *args, **kwargs)\u001b[0m\n\u001b[0;32m   <a href='file:///c%3A/Users/travi/AppData/Local/Programs/Python/Python310/lib/site-packages/plotly/basedatatypes.py?line=3364'>3365</a>\u001b[0m \u001b[39m\"\"\"\u001b[39;00m\n\u001b[0;32m   <a href='file:///c%3A/Users/travi/AppData/Local/Programs/Python/Python310/lib/site-packages/plotly/basedatatypes.py?line=3365'>3366</a>\u001b[0m \u001b[39mShow a figure using either the default renderer(s) or the renderer(s)\u001b[39;00m\n\u001b[0;32m   <a href='file:///c%3A/Users/travi/AppData/Local/Programs/Python/Python310/lib/site-packages/plotly/basedatatypes.py?line=3366'>3367</a>\u001b[0m \u001b[39mspecified by the renderer argument\u001b[39;00m\n\u001b[1;32m   (...)\u001b[0m\n\u001b[0;32m   <a href='file:///c%3A/Users/travi/AppData/Local/Programs/Python/Python310/lib/site-packages/plotly/basedatatypes.py?line=3393'>3394</a>\u001b[0m \u001b[39mNone\u001b[39;00m\n\u001b[0;32m   <a href='file:///c%3A/Users/travi/AppData/Local/Programs/Python/Python310/lib/site-packages/plotly/basedatatypes.py?line=3394'>3395</a>\u001b[0m \u001b[39m\"\"\"\u001b[39;00m\n\u001b[0;32m   <a href='file:///c%3A/Users/travi/AppData/Local/Programs/Python/Python310/lib/site-packages/plotly/basedatatypes.py?line=3395'>3396</a>\u001b[0m \u001b[39mimport\u001b[39;00m \u001b[39mplotly\u001b[39;00m\u001b[39m.\u001b[39;00m\u001b[39mio\u001b[39;00m \u001b[39mas\u001b[39;00m \u001b[39mpio\u001b[39;00m\n\u001b[1;32m-> <a href='file:///c%3A/Users/travi/AppData/Local/Programs/Python/Python310/lib/site-packages/plotly/basedatatypes.py?line=3397'>3398</a>\u001b[0m \u001b[39mreturn\u001b[39;00m pio\u001b[39m.\u001b[39mshow(\u001b[39mself\u001b[39m, \u001b[39m*\u001b[39margs, \u001b[39m*\u001b[39m\u001b[39m*\u001b[39mkwargs)\n",
      "File \u001b[1;32m~\\AppData\\Local\\Programs\\Python\\Python310\\lib\\site-packages\\plotly\\io\\_renderers.py:397\u001b[0m, in \u001b[0;36mshow\u001b[1;34m(fig, renderer, validate, **kwargs)\u001b[0m\n\u001b[0;32m    <a href='file:///c%3A/Users/travi/AppData/Local/Programs/Python/Python310/lib/site-packages/plotly/io/_renderers.py?line=391'>392</a>\u001b[0m         \u001b[39mraise\u001b[39;00m \u001b[39mValueError\u001b[39;00m(\n\u001b[0;32m    <a href='file:///c%3A/Users/travi/AppData/Local/Programs/Python/Python310/lib/site-packages/plotly/io/_renderers.py?line=392'>393</a>\u001b[0m             \u001b[39m\"\u001b[39m\u001b[39mMime type rendering requires ipython but it is not installed\u001b[39m\u001b[39m\"\u001b[39m\n\u001b[0;32m    <a href='file:///c%3A/Users/travi/AppData/Local/Programs/Python/Python310/lib/site-packages/plotly/io/_renderers.py?line=393'>394</a>\u001b[0m         )\n\u001b[0;32m    <a href='file:///c%3A/Users/travi/AppData/Local/Programs/Python/Python310/lib/site-packages/plotly/io/_renderers.py?line=395'>396</a>\u001b[0m     \u001b[39mif\u001b[39;00m \u001b[39mnot\u001b[39;00m nbformat \u001b[39mor\u001b[39;00m LooseVersion(nbformat\u001b[39m.\u001b[39m__version__) \u001b[39m<\u001b[39m LooseVersion(\u001b[39m\"\u001b[39m\u001b[39m4.2.0\u001b[39m\u001b[39m\"\u001b[39m):\n\u001b[1;32m--> <a href='file:///c%3A/Users/travi/AppData/Local/Programs/Python/Python310/lib/site-packages/plotly/io/_renderers.py?line=396'>397</a>\u001b[0m         \u001b[39mraise\u001b[39;00m \u001b[39mValueError\u001b[39;00m(\n\u001b[0;32m    <a href='file:///c%3A/Users/travi/AppData/Local/Programs/Python/Python310/lib/site-packages/plotly/io/_renderers.py?line=397'>398</a>\u001b[0m             \u001b[39m\"\u001b[39m\u001b[39mMime type rendering requires nbformat>=4.2.0 but it is not installed\u001b[39m\u001b[39m\"\u001b[39m\n\u001b[0;32m    <a href='file:///c%3A/Users/travi/AppData/Local/Programs/Python/Python310/lib/site-packages/plotly/io/_renderers.py?line=398'>399</a>\u001b[0m         )\n\u001b[0;32m    <a href='file:///c%3A/Users/travi/AppData/Local/Programs/Python/Python310/lib/site-packages/plotly/io/_renderers.py?line=400'>401</a>\u001b[0m     ipython_display\u001b[39m.\u001b[39mdisplay(bundle, raw\u001b[39m=\u001b[39m\u001b[39mTrue\u001b[39;00m)\n\u001b[0;32m    <a href='file:///c%3A/Users/travi/AppData/Local/Programs/Python/Python310/lib/site-packages/plotly/io/_renderers.py?line=402'>403</a>\u001b[0m \u001b[39m# external renderers\u001b[39;00m\n",
      "\u001b[1;31mValueError\u001b[0m: Mime type rendering requires nbformat>=4.2.0 but it is not installed"
     ]
    }
   ],
   "source": [
    "#Use dict comprehension which at first is a little confusing to me\n",
    "#but key:value for variable in iterable\n",
    "crypto_data = dict()\n",
    "for crypto in CRYPTOS:\n",
    "    crypto_data[crypto] = getData(crypto)\n",
    "\n",
    "fig = go.Figure()\n",
    "\n",
    "    # Scatter\n",
    "for idx, name in enumerate(crypto_data):\n",
    "        fig = fig.add_trace(\n",
    "            go.Scatter(\n",
    "                x = crypto_data[name].index,\n",
    "                y = crypto_data[name].Close,\n",
    "                name = name,\n",
    "            )\n",
    "        )\n",
    "# Center the top title with title_x, or center\n",
    "fig.update_layout(\n",
    "        title =\"Bitcoin's influence over other cryptos,notice the similar trendlines over a year.\",\n",
    "        title_x=0.5,\n",
    "        xaxis_title = 'Date',\n",
    "        yaxis_title = f'Closing price ({CURRENCY})',\n",
    "        legend_title = 'Cryptos'\n",
    "    )\n",
    "fig.update_yaxes(type='log', tickprefix='$')\n",
    "\n",
    "fig.show()\n",
    "\n"
   ]
  },
  {
   "cell_type": "code",
   "execution_count": null,
   "metadata": {},
   "outputs": [
    {
     "name": "stdout",
     "output_type": "stream",
     "text": [
      "------------------------------------------------Daily Percentage Change-------------------------------------------------\n"
     ]
    }
   ],
   "source": [
    "per = (\"Daily Percentage Change\")\n",
    "cent = per.center(120,'-')\n",
    "print(cent)"
   ]
  },
  {
   "cell_type": "code",
   "execution_count": null,
   "metadata": {},
   "outputs": [
    {
     "name": "stdout",
     "output_type": "stream",
     "text": [
      "Last but not least, I have a small Yahoo! output, showing the change in price within the last 24 hours.  If my theory is correct\n",
      "\n",
      "then the price differences should be around the same.  Let's find out.\n"
     ]
    }
   ],
   "source": [
    "print(\"\"\"Last but not least, I have a small Yahoo! output, showing the change in price within the last 24 hours.  If my theory is correct\\n\n",
    "then the price differences should be around the same.  Let's find out.\"\"\")"
   ]
  },
  {
   "cell_type": "code",
   "execution_count": null,
   "metadata": {},
   "outputs": [
    {
     "name": "stdout",
     "output_type": "stream",
     "text": [
      "Bitcoin's daily percentage change is :  4.80080837903738\n",
      "Ethereum's daily percentage change is :  2.8484733412247056\n",
      "Litecoins's daily percentage change is :  3.485149230921302\n"
     ]
    }
   ],
   "source": [
    "\n",
    "btc = pdr.get_data_yahoo('BTC-USD',start=date.today() - timedelta(hours=24), end = date.today())\n",
    "eth = pdr.get_data_yahoo('ETH-USD',start=date.today() - timedelta(hours=24), end = date.today())\n",
    "ltc = pdr.get_data_yahoo('LTC-USD',start=date.today() - timedelta(hours=24), end = date.today())\n",
    "\n",
    "\n",
    "x = ((btc[\"Adj Close\"])[1]-(btc[\"Adj Close\"])[0]) / (btc[\"Adj Close\"])[0] * 100\n",
    "y = ((eth[\"Adj Close\"])[1]-(eth[\"Adj Close\"])[0]) / (eth[\"Adj Close\"])[0] * 100\n",
    "z = ((ltc[\"Adj Close\"])[1]-(ltc[\"Adj Close\"])[0]) / (ltc[\"Adj Close\"])[0] * 100\n",
    "print(\"Bitcoin's daily percentage change is : \", x)\n",
    "print(\"Ethereum's daily percentage change is : \", y)\n",
    "print(\"Litecoins's daily percentage change is : \", z)\n"
   ]
  }
 ],
 "metadata": {
  "interpreter": {
   "hash": "0d1c5a50059cd843110081fecf5dad1521acefe5383809b2641dd1ea45faf626"
  },
  "kernelspec": {
   "display_name": "Python 3.10.2 ('coinenv': venv)",
   "language": "python",
   "name": "python3"
  },
  "language_info": {
   "codemirror_mode": {
    "name": "ipython",
    "version": 3
   },
   "file_extension": ".py",
   "mimetype": "text/x-python",
   "name": "python",
   "nbconvert_exporter": "python",
   "pygments_lexer": "ipython3",
   "version": "3.10.2"
  },
  "orig_nbformat": 4
 },
 "nbformat": 4,
 "nbformat_minor": 2
}
